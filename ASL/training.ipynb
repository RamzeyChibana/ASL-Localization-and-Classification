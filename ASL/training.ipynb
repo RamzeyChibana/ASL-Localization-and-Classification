{
 "cells": [
  {
   "cell_type": "code",
   "execution_count": 45,
   "metadata": {},
   "outputs": [],
   "source": [
    "import tensorflow as tf\n",
    "from tensorflow import keras \n",
    "from keras import layers\n",
    "import numpy as np\n",
    "import matplotlib.pyplot as plt\n",
    "import pandas as pd\n",
    "from sklearn.model_selection import train_test_split\n",
    "from sklearn.metrics import accuracy_score,f1_score,confusion_matrix\n",
    "from keras.applications import MobileNetV2\n",
    "import os"
   ]
  },
  {
   "attachments": {},
   "cell_type": "markdown",
   "metadata": {},
   "source": [
    "# HYPER PARAMETERS\n"
   ]
  },
  {
   "cell_type": "code",
   "execution_count": 46,
   "metadata": {},
   "outputs": [],
   "source": [
    "\n",
    "\n",
    "BACH_SIZE=4\n",
    "N_EPOCHS=100\n",
    "LR=1e-4\n",
    "PATH=\"D:\\\\df\\\\ai\\\\obd\\\\hand sign dataset\"\n",
    "columns=[\"path\",\"width\",\"height\",\"label\",\"x1\",\"y1\",\"x2\",\"y2\"]\n",
    "LABELS=['A', 'B', 'C', 'D', 'E', 'F', 'G', 'H', 'I', 'J', 'K', 'L', 'M', 'N', 'O', 'P', 'Q', 'R', 'S', 'T', 'U', 'V', 'W', 'X', 'Y', 'Z']\n",
    "IMAGE_WIDTH=256\n",
    "IMAGE_HEIGHT=256\n",
    "N_CLASSES=len(LABELS)\n",
    "CSV_PATH=\"history.csv\"\n",
    "MODEL_SAVE=\"D:\\\\df\\\\ai\\\\models\\\\asl_obj\"\n"
   ]
  },
  {
   "attachments": {},
   "cell_type": "markdown",
   "metadata": {},
   "source": [
    "# Data Preprocessing\n"
   ]
  },
  {
   "cell_type": "code",
   "execution_count": 47,
   "metadata": {},
   "outputs": [
    {
     "name": "stdout",
     "output_type": "stream",
     "text": [
      "train     : 1511\n",
      "validatin : 36\n",
      "test      : 35\n"
     ]
    }
   ],
   "source": [
    "\n",
    "#load data paths\n",
    "def load_data(path,classes,train=True):\n",
    "    images=[]\n",
    "    bboxes=[]\n",
    "    labels=[]\n",
    "    \n",
    "\n",
    "    if train :\n",
    "        df=pd.read_csv(os.path.join(path,\"train_labels.csv\"),names=columns,header=1)\n",
    "    else :\n",
    "        df=pd.read_csv(os.path.join(path,\"test_labels.csv\"),names=columns,header=1)\n",
    "\n",
    "    for _ , row in df.iterrows():\n",
    "        label=row[\"label\"]\n",
    "        image=os.path.join(path,\"images\",row[\"path\"])\n",
    "        \n",
    "        images.append(image)\n",
    "        bboxes.append([int(row[\"x1\"]),int(row[\"y1\"]),int(row[\"x2\"]),int(row[\"y2\"])])\n",
    "        labels.append(LABELS.index(label))\n",
    "\n",
    "    return images,bboxes,labels\n",
    "\n",
    "#split_dataset\n",
    "def load_dataset(path,classes):\n",
    "    train_images,train_bboxes,train_labels=load_data(path,classes)\n",
    "    images,bboxes,labels=load_data(path,classes,False)\n",
    "\n",
    "    test_images,val_images=train_test_split(images,test_size=0.5,random_state=18,shuffle=True)\n",
    "    test_bboxes,val_bboxes=train_test_split(bboxes,test_size=0.5,random_state=18,shuffle=True)\n",
    "    test_labels,val_labels=train_test_split(labels,test_size=0.5,random_state=18,shuffle=True)\n",
    "\n",
    "\n",
    "    return (train_images,train_bboxes,train_labels),(val_images,val_bboxes,val_labels),(test_images,test_bboxes,test_labels)\n",
    "\n",
    "#load images as numpy data\n",
    "def read_images(image_path,bbox,label):\n",
    "    image=tf.io.read_file(image_path)\n",
    "    image=tf.io.decode_jpeg(image)\n",
    "    height,width,channels=image.shape\n",
    "    image=tf.image.resize(image,(IMAGE_HEIGHT,IMAGE_WIDTH),tf.image.ResizeMethod.NEAREST_NEIGHBOR)\n",
    "    if channels==1:\n",
    "        image=tf.image.grayscale_to_rgb(image)\n",
    "    image=np.array(image,dtype=np.float32)\n",
    "    image=2*(image/255)-1\n",
    "    \n",
    "  \n",
    "    \n",
    "    # bbox\n",
    "    x1,y1,x2,y2=bbox\n",
    "    x1=x1/width\n",
    "    x2=x2/width\n",
    "    y1=y1/height\n",
    "    y2=y2/height\n",
    "    bbox=np.array([x1,y1,x2,y2],dtype=np.float32)\n",
    "\n",
    "    \n",
    "    #one hot encoding label\n",
    "    one_hot=np.zeros(N_CLASSES,dtype=np.float32)\n",
    "    one_hot[label]=1\n",
    "    \n",
    "\n",
    "    return image,bbox,one_hot\n",
    "\n",
    "#load dataset as tensors\n",
    "def load_tensors(images,bboxes,labels):\n",
    "    images,bboxes,labels=tf.numpy_function(read_images,[images,bboxes,labels],[tf.float32,tf.float32,tf.float32])\n",
    "    return images,(bboxes,labels)\n",
    "\n",
    "def tfData(images,bbox,labels,test=False):\n",
    "    ds=tf.data.Dataset.from_tensor_slices((images,bbox,labels))\n",
    "    ds=ds.map(load_tensors,num_parallel_calls=tf.data.AUTOTUNE)\n",
    "    ds=ds.cache()\n",
    "    if not test:\n",
    "        ds=ds.batch(BACH_SIZE)\n",
    "    ds=ds.prefetch(tf.data.AUTOTUNE)\n",
    "    return ds\n",
    "\n",
    "\n",
    "(train_images,train_bboxes,train_labels),(val_images,val_bboxes,val_labels),(test_images,test_bboxes,test_labels)=load_dataset(PATH,LABELS)\n",
    "\n",
    "ds_train=tfData(train_images,train_bboxes,train_labels)\n",
    "ds_val=tfData(val_images,val_bboxes,val_labels)\n",
    "print(f\"train     : {len(train_images)}\")\n",
    "print(f\"validatin : {len(val_images)}\")\n",
    "print(f\"test      : {len(test_images)}\")"
   ]
  },
  {
   "attachments": {},
   "cell_type": "markdown",
   "metadata": {},
   "source": [
    "# Build Model"
   ]
  },
  {
   "cell_type": "code",
   "execution_count": 4,
   "metadata": {},
   "outputs": [
    {
     "name": "stdout",
     "output_type": "stream",
     "text": [
      "WARNING:tensorflow:`input_shape` is undefined or non-square, or `rows` is not in [96, 128, 160, 192, 224]. Weights for input shape (224, 224) will be loaded as the default.\n",
      "Model: \"model\"\n",
      "__________________________________________________________________________________________________\n",
      " Layer (type)                   Output Shape         Param #     Connected to                     \n",
      "==================================================================================================\n",
      " input_1 (InputLayer)           [(None, 256, 256, 3  0           []                               \n",
      "                                )]                                                                \n",
      "                                                                                                  \n",
      " Conv1 (Conv2D)                 (None, 128, 128, 32  864         ['input_1[0][0]']                \n",
      "                                )                                                                 \n",
      "                                                                                                  \n",
      " bn_Conv1 (BatchNormalization)  (None, 128, 128, 32  128         ['Conv1[0][0]']                  \n",
      "                                )                                                                 \n",
      "                                                                                                  \n",
      " Conv1_relu (ReLU)              (None, 128, 128, 32  0           ['bn_Conv1[0][0]']               \n",
      "                                )                                                                 \n",
      "                                                                                                  \n",
      " expanded_conv_depthwise (Depth  (None, 128, 128, 32  288        ['Conv1_relu[0][0]']             \n",
      " wiseConv2D)                    )                                                                 \n",
      "                                                                                                  \n",
      " expanded_conv_depthwise_BN (Ba  (None, 128, 128, 32  128        ['expanded_conv_depthwise[0][0]']\n",
      " tchNormalization)              )                                                                 \n",
      "                                                                                                  \n",
      " expanded_conv_depthwise_relu (  (None, 128, 128, 32  0          ['expanded_conv_depthwise_BN[0][0\n",
      " ReLU)                          )                                ]']                              \n",
      "                                                                                                  \n",
      " expanded_conv_project (Conv2D)  (None, 128, 128, 16  512        ['expanded_conv_depthwise_relu[0]\n",
      "                                )                                [0]']                            \n",
      "                                                                                                  \n",
      " expanded_conv_project_BN (Batc  (None, 128, 128, 16  64         ['expanded_conv_project[0][0]']  \n",
      " hNormalization)                )                                                                 \n",
      "                                                                                                  \n",
      " block_1_expand (Conv2D)        (None, 128, 128, 96  1536        ['expanded_conv_project_BN[0][0]'\n",
      "                                )                                ]                                \n",
      "                                                                                                  \n",
      " block_1_expand_BN (BatchNormal  (None, 128, 128, 96  384        ['block_1_expand[0][0]']         \n",
      " ization)                       )                                                                 \n",
      "                                                                                                  \n",
      " block_1_expand_relu (ReLU)     (None, 128, 128, 96  0           ['block_1_expand_BN[0][0]']      \n",
      "                                )                                                                 \n",
      "                                                                                                  \n",
      " block_1_pad (ZeroPadding2D)    (None, 129, 129, 96  0           ['block_1_expand_relu[0][0]']    \n",
      "                                )                                                                 \n",
      "                                                                                                  \n",
      " block_1_depthwise (DepthwiseCo  (None, 64, 64, 96)  864         ['block_1_pad[0][0]']            \n",
      " nv2D)                                                                                            \n",
      "                                                                                                  \n",
      " block_1_depthwise_BN (BatchNor  (None, 64, 64, 96)  384         ['block_1_depthwise[0][0]']      \n",
      " malization)                                                                                      \n",
      "                                                                                                  \n",
      " block_1_depthwise_relu (ReLU)  (None, 64, 64, 96)   0           ['block_1_depthwise_BN[0][0]']   \n",
      "                                                                                                  \n",
      " block_1_project (Conv2D)       (None, 64, 64, 24)   2304        ['block_1_depthwise_relu[0][0]'] \n",
      "                                                                                                  \n",
      " block_1_project_BN (BatchNorma  (None, 64, 64, 24)  96          ['block_1_project[0][0]']        \n",
      " lization)                                                                                        \n",
      "                                                                                                  \n",
      " block_2_expand (Conv2D)        (None, 64, 64, 144)  3456        ['block_1_project_BN[0][0]']     \n",
      "                                                                                                  \n",
      " block_2_expand_BN (BatchNormal  (None, 64, 64, 144)  576        ['block_2_expand[0][0]']         \n",
      " ization)                                                                                         \n",
      "                                                                                                  \n",
      " block_2_expand_relu (ReLU)     (None, 64, 64, 144)  0           ['block_2_expand_BN[0][0]']      \n",
      "                                                                                                  \n",
      " block_2_depthwise (DepthwiseCo  (None, 64, 64, 144)  1296       ['block_2_expand_relu[0][0]']    \n",
      " nv2D)                                                                                            \n",
      "                                                                                                  \n",
      " block_2_depthwise_BN (BatchNor  (None, 64, 64, 144)  576        ['block_2_depthwise[0][0]']      \n",
      " malization)                                                                                      \n",
      "                                                                                                  \n",
      " block_2_depthwise_relu (ReLU)  (None, 64, 64, 144)  0           ['block_2_depthwise_BN[0][0]']   \n",
      "                                                                                                  \n",
      " block_2_project (Conv2D)       (None, 64, 64, 24)   3456        ['block_2_depthwise_relu[0][0]'] \n",
      "                                                                                                  \n",
      " block_2_project_BN (BatchNorma  (None, 64, 64, 24)  96          ['block_2_project[0][0]']        \n",
      " lization)                                                                                        \n",
      "                                                                                                  \n",
      " block_2_add (Add)              (None, 64, 64, 24)   0           ['block_1_project_BN[0][0]',     \n",
      "                                                                  'block_2_project_BN[0][0]']     \n",
      "                                                                                                  \n",
      " block_3_expand (Conv2D)        (None, 64, 64, 144)  3456        ['block_2_add[0][0]']            \n",
      "                                                                                                  \n",
      " block_3_expand_BN (BatchNormal  (None, 64, 64, 144)  576        ['block_3_expand[0][0]']         \n",
      " ization)                                                                                         \n",
      "                                                                                                  \n",
      " block_3_expand_relu (ReLU)     (None, 64, 64, 144)  0           ['block_3_expand_BN[0][0]']      \n",
      "                                                                                                  \n",
      " block_3_pad (ZeroPadding2D)    (None, 65, 65, 144)  0           ['block_3_expand_relu[0][0]']    \n",
      "                                                                                                  \n",
      " block_3_depthwise (DepthwiseCo  (None, 32, 32, 144)  1296       ['block_3_pad[0][0]']            \n",
      " nv2D)                                                                                            \n",
      "                                                                                                  \n",
      " block_3_depthwise_BN (BatchNor  (None, 32, 32, 144)  576        ['block_3_depthwise[0][0]']      \n",
      " malization)                                                                                      \n",
      "                                                                                                  \n",
      " block_3_depthwise_relu (ReLU)  (None, 32, 32, 144)  0           ['block_3_depthwise_BN[0][0]']   \n",
      "                                                                                                  \n",
      " block_3_project (Conv2D)       (None, 32, 32, 32)   4608        ['block_3_depthwise_relu[0][0]'] \n",
      "                                                                                                  \n",
      " block_3_project_BN (BatchNorma  (None, 32, 32, 32)  128         ['block_3_project[0][0]']        \n",
      " lization)                                                                                        \n",
      "                                                                                                  \n",
      " block_4_expand (Conv2D)        (None, 32, 32, 192)  6144        ['block_3_project_BN[0][0]']     \n",
      "                                                                                                  \n",
      " block_4_expand_BN (BatchNormal  (None, 32, 32, 192)  768        ['block_4_expand[0][0]']         \n",
      " ization)                                                                                         \n",
      "                                                                                                  \n",
      " block_4_expand_relu (ReLU)     (None, 32, 32, 192)  0           ['block_4_expand_BN[0][0]']      \n",
      "                                                                                                  \n",
      " block_4_depthwise (DepthwiseCo  (None, 32, 32, 192)  1728       ['block_4_expand_relu[0][0]']    \n",
      " nv2D)                                                                                            \n",
      "                                                                                                  \n",
      " block_4_depthwise_BN (BatchNor  (None, 32, 32, 192)  768        ['block_4_depthwise[0][0]']      \n",
      " malization)                                                                                      \n",
      "                                                                                                  \n",
      " block_4_depthwise_relu (ReLU)  (None, 32, 32, 192)  0           ['block_4_depthwise_BN[0][0]']   \n",
      "                                                                                                  \n",
      " block_4_project (Conv2D)       (None, 32, 32, 32)   6144        ['block_4_depthwise_relu[0][0]'] \n",
      "                                                                                                  \n",
      " block_4_project_BN (BatchNorma  (None, 32, 32, 32)  128         ['block_4_project[0][0]']        \n",
      " lization)                                                                                        \n",
      "                                                                                                  \n",
      " block_4_add (Add)              (None, 32, 32, 32)   0           ['block_3_project_BN[0][0]',     \n",
      "                                                                  'block_4_project_BN[0][0]']     \n",
      "                                                                                                  \n",
      " block_5_expand (Conv2D)        (None, 32, 32, 192)  6144        ['block_4_add[0][0]']            \n",
      "                                                                                                  \n",
      " block_5_expand_BN (BatchNormal  (None, 32, 32, 192)  768        ['block_5_expand[0][0]']         \n",
      " ization)                                                                                         \n",
      "                                                                                                  \n",
      " block_5_expand_relu (ReLU)     (None, 32, 32, 192)  0           ['block_5_expand_BN[0][0]']      \n",
      "                                                                                                  \n",
      " block_5_depthwise (DepthwiseCo  (None, 32, 32, 192)  1728       ['block_5_expand_relu[0][0]']    \n",
      " nv2D)                                                                                            \n",
      "                                                                                                  \n",
      " block_5_depthwise_BN (BatchNor  (None, 32, 32, 192)  768        ['block_5_depthwise[0][0]']      \n",
      " malization)                                                                                      \n",
      "                                                                                                  \n",
      " block_5_depthwise_relu (ReLU)  (None, 32, 32, 192)  0           ['block_5_depthwise_BN[0][0]']   \n",
      "                                                                                                  \n",
      " block_5_project (Conv2D)       (None, 32, 32, 32)   6144        ['block_5_depthwise_relu[0][0]'] \n",
      "                                                                                                  \n",
      " block_5_project_BN (BatchNorma  (None, 32, 32, 32)  128         ['block_5_project[0][0]']        \n",
      " lization)                                                                                        \n",
      "                                                                                                  \n",
      " block_5_add (Add)              (None, 32, 32, 32)   0           ['block_4_add[0][0]',            \n",
      "                                                                  'block_5_project_BN[0][0]']     \n",
      "                                                                                                  \n",
      " block_6_expand (Conv2D)        (None, 32, 32, 192)  6144        ['block_5_add[0][0]']            \n",
      "                                                                                                  \n",
      " block_6_expand_BN (BatchNormal  (None, 32, 32, 192)  768        ['block_6_expand[0][0]']         \n",
      " ization)                                                                                         \n",
      "                                                                                                  \n",
      " block_6_expand_relu (ReLU)     (None, 32, 32, 192)  0           ['block_6_expand_BN[0][0]']      \n",
      "                                                                                                  \n",
      " block_6_pad (ZeroPadding2D)    (None, 33, 33, 192)  0           ['block_6_expand_relu[0][0]']    \n",
      "                                                                                                  \n",
      " block_6_depthwise (DepthwiseCo  (None, 16, 16, 192)  1728       ['block_6_pad[0][0]']            \n",
      " nv2D)                                                                                            \n",
      "                                                                                                  \n",
      " block_6_depthwise_BN (BatchNor  (None, 16, 16, 192)  768        ['block_6_depthwise[0][0]']      \n",
      " malization)                                                                                      \n",
      "                                                                                                  \n",
      " block_6_depthwise_relu (ReLU)  (None, 16, 16, 192)  0           ['block_6_depthwise_BN[0][0]']   \n",
      "                                                                                                  \n",
      " block_6_project (Conv2D)       (None, 16, 16, 64)   12288       ['block_6_depthwise_relu[0][0]'] \n",
      "                                                                                                  \n",
      " block_6_project_BN (BatchNorma  (None, 16, 16, 64)  256         ['block_6_project[0][0]']        \n",
      " lization)                                                                                        \n",
      "                                                                                                  \n",
      " block_7_expand (Conv2D)        (None, 16, 16, 384)  24576       ['block_6_project_BN[0][0]']     \n",
      "                                                                                                  \n",
      " block_7_expand_BN (BatchNormal  (None, 16, 16, 384)  1536       ['block_7_expand[0][0]']         \n",
      " ization)                                                                                         \n",
      "                                                                                                  \n",
      " block_7_expand_relu (ReLU)     (None, 16, 16, 384)  0           ['block_7_expand_BN[0][0]']      \n",
      "                                                                                                  \n",
      " block_7_depthwise (DepthwiseCo  (None, 16, 16, 384)  3456       ['block_7_expand_relu[0][0]']    \n",
      " nv2D)                                                                                            \n",
      "                                                                                                  \n",
      " block_7_depthwise_BN (BatchNor  (None, 16, 16, 384)  1536       ['block_7_depthwise[0][0]']      \n",
      " malization)                                                                                      \n",
      "                                                                                                  \n",
      " block_7_depthwise_relu (ReLU)  (None, 16, 16, 384)  0           ['block_7_depthwise_BN[0][0]']   \n",
      "                                                                                                  \n",
      " block_7_project (Conv2D)       (None, 16, 16, 64)   24576       ['block_7_depthwise_relu[0][0]'] \n",
      "                                                                                                  \n",
      " block_7_project_BN (BatchNorma  (None, 16, 16, 64)  256         ['block_7_project[0][0]']        \n",
      " lization)                                                                                        \n",
      "                                                                                                  \n",
      " block_7_add (Add)              (None, 16, 16, 64)   0           ['block_6_project_BN[0][0]',     \n",
      "                                                                  'block_7_project_BN[0][0]']     \n",
      "                                                                                                  \n",
      " block_8_expand (Conv2D)        (None, 16, 16, 384)  24576       ['block_7_add[0][0]']            \n",
      "                                                                                                  \n",
      " block_8_expand_BN (BatchNormal  (None, 16, 16, 384)  1536       ['block_8_expand[0][0]']         \n",
      " ization)                                                                                         \n",
      "                                                                                                  \n",
      " block_8_expand_relu (ReLU)     (None, 16, 16, 384)  0           ['block_8_expand_BN[0][0]']      \n",
      "                                                                                                  \n",
      " block_8_depthwise (DepthwiseCo  (None, 16, 16, 384)  3456       ['block_8_expand_relu[0][0]']    \n",
      " nv2D)                                                                                            \n",
      "                                                                                                  \n",
      " block_8_depthwise_BN (BatchNor  (None, 16, 16, 384)  1536       ['block_8_depthwise[0][0]']      \n",
      " malization)                                                                                      \n",
      "                                                                                                  \n",
      " block_8_depthwise_relu (ReLU)  (None, 16, 16, 384)  0           ['block_8_depthwise_BN[0][0]']   \n",
      "                                                                                                  \n",
      " block_8_project (Conv2D)       (None, 16, 16, 64)   24576       ['block_8_depthwise_relu[0][0]'] \n",
      "                                                                                                  \n",
      " block_8_project_BN (BatchNorma  (None, 16, 16, 64)  256         ['block_8_project[0][0]']        \n",
      " lization)                                                                                        \n",
      "                                                                                                  \n",
      " block_8_add (Add)              (None, 16, 16, 64)   0           ['block_7_add[0][0]',            \n",
      "                                                                  'block_8_project_BN[0][0]']     \n",
      "                                                                                                  \n",
      " block_9_expand (Conv2D)        (None, 16, 16, 384)  24576       ['block_8_add[0][0]']            \n",
      "                                                                                                  \n",
      " block_9_expand_BN (BatchNormal  (None, 16, 16, 384)  1536       ['block_9_expand[0][0]']         \n",
      " ization)                                                                                         \n",
      "                                                                                                  \n",
      " block_9_expand_relu (ReLU)     (None, 16, 16, 384)  0           ['block_9_expand_BN[0][0]']      \n",
      "                                                                                                  \n",
      " block_9_depthwise (DepthwiseCo  (None, 16, 16, 384)  3456       ['block_9_expand_relu[0][0]']    \n",
      " nv2D)                                                                                            \n",
      "                                                                                                  \n",
      " block_9_depthwise_BN (BatchNor  (None, 16, 16, 384)  1536       ['block_9_depthwise[0][0]']      \n",
      " malization)                                                                                      \n",
      "                                                                                                  \n",
      " block_9_depthwise_relu (ReLU)  (None, 16, 16, 384)  0           ['block_9_depthwise_BN[0][0]']   \n",
      "                                                                                                  \n",
      " block_9_project (Conv2D)       (None, 16, 16, 64)   24576       ['block_9_depthwise_relu[0][0]'] \n",
      "                                                                                                  \n",
      " block_9_project_BN (BatchNorma  (None, 16, 16, 64)  256         ['block_9_project[0][0]']        \n",
      " lization)                                                                                        \n",
      "                                                                                                  \n",
      " block_9_add (Add)              (None, 16, 16, 64)   0           ['block_8_add[0][0]',            \n",
      "                                                                  'block_9_project_BN[0][0]']     \n",
      "                                                                                                  \n",
      " block_10_expand (Conv2D)       (None, 16, 16, 384)  24576       ['block_9_add[0][0]']            \n",
      "                                                                                                  \n",
      " block_10_expand_BN (BatchNorma  (None, 16, 16, 384)  1536       ['block_10_expand[0][0]']        \n",
      " lization)                                                                                        \n",
      "                                                                                                  \n",
      " block_10_expand_relu (ReLU)    (None, 16, 16, 384)  0           ['block_10_expand_BN[0][0]']     \n",
      "                                                                                                  \n",
      " block_10_depthwise (DepthwiseC  (None, 16, 16, 384)  3456       ['block_10_expand_relu[0][0]']   \n",
      " onv2D)                                                                                           \n",
      "                                                                                                  \n",
      " block_10_depthwise_BN (BatchNo  (None, 16, 16, 384)  1536       ['block_10_depthwise[0][0]']     \n",
      " rmalization)                                                                                     \n",
      "                                                                                                  \n",
      " block_10_depthwise_relu (ReLU)  (None, 16, 16, 384)  0          ['block_10_depthwise_BN[0][0]']  \n",
      "                                                                                                  \n",
      " block_10_project (Conv2D)      (None, 16, 16, 96)   36864       ['block_10_depthwise_relu[0][0]']\n",
      "                                                                                                  \n",
      " block_10_project_BN (BatchNorm  (None, 16, 16, 96)  384         ['block_10_project[0][0]']       \n",
      " alization)                                                                                       \n",
      "                                                                                                  \n",
      " block_11_expand (Conv2D)       (None, 16, 16, 576)  55296       ['block_10_project_BN[0][0]']    \n",
      "                                                                                                  \n",
      " block_11_expand_BN (BatchNorma  (None, 16, 16, 576)  2304       ['block_11_expand[0][0]']        \n",
      " lization)                                                                                        \n",
      "                                                                                                  \n",
      " block_11_expand_relu (ReLU)    (None, 16, 16, 576)  0           ['block_11_expand_BN[0][0]']     \n",
      "                                                                                                  \n",
      " block_11_depthwise (DepthwiseC  (None, 16, 16, 576)  5184       ['block_11_expand_relu[0][0]']   \n",
      " onv2D)                                                                                           \n",
      "                                                                                                  \n",
      " block_11_depthwise_BN (BatchNo  (None, 16, 16, 576)  2304       ['block_11_depthwise[0][0]']     \n",
      " rmalization)                                                                                     \n",
      "                                                                                                  \n",
      " block_11_depthwise_relu (ReLU)  (None, 16, 16, 576)  0          ['block_11_depthwise_BN[0][0]']  \n",
      "                                                                                                  \n",
      " block_11_project (Conv2D)      (None, 16, 16, 96)   55296       ['block_11_depthwise_relu[0][0]']\n",
      "                                                                                                  \n",
      " block_11_project_BN (BatchNorm  (None, 16, 16, 96)  384         ['block_11_project[0][0]']       \n",
      " alization)                                                                                       \n",
      "                                                                                                  \n",
      " block_11_add (Add)             (None, 16, 16, 96)   0           ['block_10_project_BN[0][0]',    \n",
      "                                                                  'block_11_project_BN[0][0]']    \n",
      "                                                                                                  \n",
      " block_12_expand (Conv2D)       (None, 16, 16, 576)  55296       ['block_11_add[0][0]']           \n",
      "                                                                                                  \n",
      " block_12_expand_BN (BatchNorma  (None, 16, 16, 576)  2304       ['block_12_expand[0][0]']        \n",
      " lization)                                                                                        \n",
      "                                                                                                  \n",
      " block_12_expand_relu (ReLU)    (None, 16, 16, 576)  0           ['block_12_expand_BN[0][0]']     \n",
      "                                                                                                  \n",
      " block_12_depthwise (DepthwiseC  (None, 16, 16, 576)  5184       ['block_12_expand_relu[0][0]']   \n",
      " onv2D)                                                                                           \n",
      "                                                                                                  \n",
      " block_12_depthwise_BN (BatchNo  (None, 16, 16, 576)  2304       ['block_12_depthwise[0][0]']     \n",
      " rmalization)                                                                                     \n",
      "                                                                                                  \n",
      " block_12_depthwise_relu (ReLU)  (None, 16, 16, 576)  0          ['block_12_depthwise_BN[0][0]']  \n",
      "                                                                                                  \n",
      " block_12_project (Conv2D)      (None, 16, 16, 96)   55296       ['block_12_depthwise_relu[0][0]']\n",
      "                                                                                                  \n",
      " block_12_project_BN (BatchNorm  (None, 16, 16, 96)  384         ['block_12_project[0][0]']       \n",
      " alization)                                                                                       \n",
      "                                                                                                  \n",
      " block_12_add (Add)             (None, 16, 16, 96)   0           ['block_11_add[0][0]',           \n",
      "                                                                  'block_12_project_BN[0][0]']    \n",
      "                                                                                                  \n",
      " block_13_expand (Conv2D)       (None, 16, 16, 576)  55296       ['block_12_add[0][0]']           \n",
      "                                                                                                  \n",
      " block_13_expand_BN (BatchNorma  (None, 16, 16, 576)  2304       ['block_13_expand[0][0]']        \n",
      " lization)                                                                                        \n",
      "                                                                                                  \n",
      " block_13_expand_relu (ReLU)    (None, 16, 16, 576)  0           ['block_13_expand_BN[0][0]']     \n",
      "                                                                                                  \n",
      " block_13_pad (ZeroPadding2D)   (None, 17, 17, 576)  0           ['block_13_expand_relu[0][0]']   \n",
      "                                                                                                  \n",
      " block_13_depthwise (DepthwiseC  (None, 8, 8, 576)   5184        ['block_13_pad[0][0]']           \n",
      " onv2D)                                                                                           \n",
      "                                                                                                  \n",
      " block_13_depthwise_BN (BatchNo  (None, 8, 8, 576)   2304        ['block_13_depthwise[0][0]']     \n",
      " rmalization)                                                                                     \n",
      "                                                                                                  \n",
      " block_13_depthwise_relu (ReLU)  (None, 8, 8, 576)   0           ['block_13_depthwise_BN[0][0]']  \n",
      "                                                                                                  \n",
      " block_13_project (Conv2D)      (None, 8, 8, 160)    92160       ['block_13_depthwise_relu[0][0]']\n",
      "                                                                                                  \n",
      " block_13_project_BN (BatchNorm  (None, 8, 8, 160)   640         ['block_13_project[0][0]']       \n",
      " alization)                                                                                       \n",
      "                                                                                                  \n",
      " block_14_expand (Conv2D)       (None, 8, 8, 960)    153600      ['block_13_project_BN[0][0]']    \n",
      "                                                                                                  \n",
      " block_14_expand_BN (BatchNorma  (None, 8, 8, 960)   3840        ['block_14_expand[0][0]']        \n",
      " lization)                                                                                        \n",
      "                                                                                                  \n",
      " block_14_expand_relu (ReLU)    (None, 8, 8, 960)    0           ['block_14_expand_BN[0][0]']     \n",
      "                                                                                                  \n",
      " block_14_depthwise (DepthwiseC  (None, 8, 8, 960)   8640        ['block_14_expand_relu[0][0]']   \n",
      " onv2D)                                                                                           \n",
      "                                                                                                  \n",
      " block_14_depthwise_BN (BatchNo  (None, 8, 8, 960)   3840        ['block_14_depthwise[0][0]']     \n",
      " rmalization)                                                                                     \n",
      "                                                                                                  \n",
      " block_14_depthwise_relu (ReLU)  (None, 8, 8, 960)   0           ['block_14_depthwise_BN[0][0]']  \n",
      "                                                                                                  \n",
      " block_14_project (Conv2D)      (None, 8, 8, 160)    153600      ['block_14_depthwise_relu[0][0]']\n",
      "                                                                                                  \n",
      " block_14_project_BN (BatchNorm  (None, 8, 8, 160)   640         ['block_14_project[0][0]']       \n",
      " alization)                                                                                       \n",
      "                                                                                                  \n",
      " block_14_add (Add)             (None, 8, 8, 160)    0           ['block_13_project_BN[0][0]',    \n",
      "                                                                  'block_14_project_BN[0][0]']    \n",
      "                                                                                                  \n",
      " block_15_expand (Conv2D)       (None, 8, 8, 960)    153600      ['block_14_add[0][0]']           \n",
      "                                                                                                  \n",
      " block_15_expand_BN (BatchNorma  (None, 8, 8, 960)   3840        ['block_15_expand[0][0]']        \n",
      " lization)                                                                                        \n",
      "                                                                                                  \n",
      " block_15_expand_relu (ReLU)    (None, 8, 8, 960)    0           ['block_15_expand_BN[0][0]']     \n",
      "                                                                                                  \n",
      " block_15_depthwise (DepthwiseC  (None, 8, 8, 960)   8640        ['block_15_expand_relu[0][0]']   \n",
      " onv2D)                                                                                           \n",
      "                                                                                                  \n",
      " block_15_depthwise_BN (BatchNo  (None, 8, 8, 960)   3840        ['block_15_depthwise[0][0]']     \n",
      " rmalization)                                                                                     \n",
      "                                                                                                  \n",
      " block_15_depthwise_relu (ReLU)  (None, 8, 8, 960)   0           ['block_15_depthwise_BN[0][0]']  \n",
      "                                                                                                  \n",
      " block_15_project (Conv2D)      (None, 8, 8, 160)    153600      ['block_15_depthwise_relu[0][0]']\n",
      "                                                                                                  \n",
      " block_15_project_BN (BatchNorm  (None, 8, 8, 160)   640         ['block_15_project[0][0]']       \n",
      " alization)                                                                                       \n",
      "                                                                                                  \n",
      " block_15_add (Add)             (None, 8, 8, 160)    0           ['block_14_add[0][0]',           \n",
      "                                                                  'block_15_project_BN[0][0]']    \n",
      "                                                                                                  \n",
      " block_16_expand (Conv2D)       (None, 8, 8, 960)    153600      ['block_15_add[0][0]']           \n",
      "                                                                                                  \n",
      " block_16_expand_BN (BatchNorma  (None, 8, 8, 960)   3840        ['block_16_expand[0][0]']        \n",
      " lization)                                                                                        \n",
      "                                                                                                  \n",
      " block_16_expand_relu (ReLU)    (None, 8, 8, 960)    0           ['block_16_expand_BN[0][0]']     \n",
      "                                                                                                  \n",
      " block_16_depthwise (DepthwiseC  (None, 8, 8, 960)   8640        ['block_16_expand_relu[0][0]']   \n",
      " onv2D)                                                                                           \n",
      "                                                                                                  \n",
      " block_16_depthwise_BN (BatchNo  (None, 8, 8, 960)   3840        ['block_16_depthwise[0][0]']     \n",
      " rmalization)                                                                                     \n",
      "                                                                                                  \n",
      " block_16_depthwise_relu (ReLU)  (None, 8, 8, 960)   0           ['block_16_depthwise_BN[0][0]']  \n",
      "                                                                                                  \n",
      " block_16_project (Conv2D)      (None, 8, 8, 320)    307200      ['block_16_depthwise_relu[0][0]']\n",
      "                                                                                                  \n",
      " block_16_project_BN (BatchNorm  (None, 8, 8, 320)   1280        ['block_16_project[0][0]']       \n",
      " alization)                                                                                       \n",
      "                                                                                                  \n",
      " Conv_1 (Conv2D)                (None, 8, 8, 1280)   409600      ['block_16_project_BN[0][0]']    \n",
      "                                                                                                  \n",
      " Conv_1_bn (BatchNormalization)  (None, 8, 8, 1280)  5120        ['Conv_1[0][0]']                 \n",
      "                                                                                                  \n",
      " out_relu (ReLU)                (None, 8, 8, 1280)   0           ['Conv_1_bn[0][0]']              \n",
      "                                                                                                  \n",
      " conv2d (Conv2D)                (None, 8, 8, 256)    327936      ['out_relu[0][0]']               \n",
      "                                                                                                  \n",
      " batch_normalization (BatchNorm  (None, 8, 8, 256)   1024        ['conv2d[0][0]']                 \n",
      " alization)                                                                                       \n",
      "                                                                                                  \n",
      " activation (Activation)        (None, 8, 8, 256)    0           ['batch_normalization[0][0]']    \n",
      "                                                                                                  \n",
      " global_average_pooling2d (Glob  (None, 256)         0           ['activation[0][0]']             \n",
      " alAveragePooling2D)                                                                              \n",
      "                                                                                                  \n",
      " dropout (Dropout)              (None, 256)          0           ['global_average_pooling2d[0][0]'\n",
      "                                                                 ]                                \n",
      "                                                                                                  \n",
      " bbox (Dense)                   (None, 4)            1028        ['dropout[0][0]']                \n",
      "                                                                                                  \n",
      " label (Dense)                  (None, 26)           6682        ['dropout[0][0]']                \n",
      "                                                                                                  \n",
      "==================================================================================================\n",
      "Total params: 2,594,654\n",
      "Trainable params: 2,560,030\n",
      "Non-trainable params: 34,624\n",
      "__________________________________________________________________________________________________\n"
     ]
    }
   ],
   "source": [
    "def asl_model():\n",
    "    \n",
    "    input_shape=(IMAGE_HEIGHT,IMAGE_WIDTH,3)\n",
    "    inputs = layers.Input(input_shape)\n",
    "\n",
    "    pretrain = MobileNetV2(include_top=False,weights=\"imagenet\",input_tensor=inputs)\n",
    "    pretrain.trainable = True\n",
    "    \n",
    "\n",
    "    \n",
    "    x = pretrain.output\n",
    "    x = layers.Conv2D(256, kernel_size=1, padding=\"same\")(x)\n",
    "    x = layers.BatchNormalization()(x)\n",
    "    x = layers.Activation(\"relu\")(x)\n",
    "    x = layers.GlobalAveragePooling2D()(x)\n",
    "    x = layers.Dropout(0.5)(x)\n",
    "    bbox = layers.Dense(4, activation=\"sigmoid\", name=\"bbox\")(x)\n",
    "    label = layers.Dense(N_CLASSES, activation=\"softmax\", name=\"label\")(x)\n",
    "\n",
    "    \n",
    "    model = tf.keras.models.Model(inputs=[inputs], outputs=[bbox, label])\n",
    "    return model\n",
    "    \n",
    "\n",
    "model=asl_model()\n",
    "model.summary()\n",
    "model.compile(\n",
    "        \n",
    "       loss = {\n",
    "            \"bbox\": \"binary_crossentropy\",\n",
    "            \"label\": \"categorical_crossentropy\"\n",
    "        },\n",
    "        optimizer=keras.optimizers.Adam(LR)\n",
    "    )"
   ]
  },
  {
   "attachments": {},
   "cell_type": "markdown",
   "metadata": {},
   "source": [
    "# Training"
   ]
  },
  {
   "cell_type": "code",
   "execution_count": 5,
   "metadata": {},
   "outputs": [
    {
     "name": "stdout",
     "output_type": "stream",
     "text": [
      "Epoch 1/100\n",
      "378/378 [==============================] - ETA: 0s - loss: 3.4544 - bbox_loss: 0.5853 - label_loss: 2.8690\n",
      "Epoch 1: val_loss improved from inf to 2.97061, saving model to D:\\df\\ai\\models\\asl_obj\n"
     ]
    },
    {
     "name": "stderr",
     "output_type": "stream",
     "text": [
      "WARNING:absl:Found untraced functions such as _jit_compiled_convolution_op, _jit_compiled_convolution_op, _jit_compiled_convolution_op, _jit_compiled_convolution_op, _jit_compiled_convolution_op while saving (showing 5 of 53). These functions will not be directly callable after loading.\n"
     ]
    },
    {
     "name": "stdout",
     "output_type": "stream",
     "text": [
      "INFO:tensorflow:Assets written to: D:\\df\\ai\\models\\asl_obj\\assets\n"
     ]
    },
    {
     "name": "stderr",
     "output_type": "stream",
     "text": [
      "INFO:tensorflow:Assets written to: D:\\df\\ai\\models\\asl_obj\\assets\n"
     ]
    },
    {
     "name": "stdout",
     "output_type": "stream",
     "text": [
      "378/378 [==============================] - 54s 117ms/step - loss: 3.4544 - bbox_loss: 0.5853 - label_loss: 2.8690 - val_loss: 2.9706 - val_bbox_loss: 0.5923 - val_label_loss: 2.3783 - lr: 1.0000e-04\n",
      "Epoch 2/100\n",
      "377/378 [============================>.] - ETA: 0s - loss: 2.1265 - bbox_loss: 0.5518 - label_loss: 1.5748\n",
      "Epoch 2: val_loss improved from 2.97061 to 2.18494, saving model to D:\\df\\ai\\models\\asl_obj\n"
     ]
    },
    {
     "name": "stderr",
     "output_type": "stream",
     "text": [
      "WARNING:absl:Found untraced functions such as _jit_compiled_convolution_op, _jit_compiled_convolution_op, _jit_compiled_convolution_op, _jit_compiled_convolution_op, _jit_compiled_convolution_op while saving (showing 5 of 53). These functions will not be directly callable after loading.\n"
     ]
    },
    {
     "name": "stdout",
     "output_type": "stream",
     "text": [
      "INFO:tensorflow:Assets written to: D:\\df\\ai\\models\\asl_obj\\assets\n"
     ]
    },
    {
     "name": "stderr",
     "output_type": "stream",
     "text": [
      "INFO:tensorflow:Assets written to: D:\\df\\ai\\models\\asl_obj\\assets\n"
     ]
    },
    {
     "name": "stdout",
     "output_type": "stream",
     "text": [
      "378/378 [==============================] - 37s 98ms/step - loss: 2.1261 - bbox_loss: 0.5518 - label_loss: 1.5743 - val_loss: 2.1849 - val_bbox_loss: 0.5754 - val_label_loss: 1.6095 - lr: 1.0000e-04\n",
      "Epoch 3/100\n",
      "378/378 [==============================] - ETA: 0s - loss: 1.3368 - bbox_loss: 0.5494 - label_loss: 0.7873\n",
      "Epoch 3: val_loss improved from 2.18494 to 1.74683, saving model to D:\\df\\ai\\models\\asl_obj\n"
     ]
    },
    {
     "name": "stderr",
     "output_type": "stream",
     "text": [
      "WARNING:absl:Found untraced functions such as _jit_compiled_convolution_op, _jit_compiled_convolution_op, _jit_compiled_convolution_op, _jit_compiled_convolution_op, _jit_compiled_convolution_op while saving (showing 5 of 53). These functions will not be directly callable after loading.\n"
     ]
    },
    {
     "name": "stdout",
     "output_type": "stream",
     "text": [
      "INFO:tensorflow:Assets written to: D:\\df\\ai\\models\\asl_obj\\assets\n"
     ]
    },
    {
     "name": "stderr",
     "output_type": "stream",
     "text": [
      "INFO:tensorflow:Assets written to: D:\\df\\ai\\models\\asl_obj\\assets\n"
     ]
    },
    {
     "name": "stdout",
     "output_type": "stream",
     "text": [
      "378/378 [==============================] - 37s 97ms/step - loss: 1.3368 - bbox_loss: 0.5494 - label_loss: 0.7873 - val_loss: 1.7468 - val_bbox_loss: 0.5613 - val_label_loss: 1.1856 - lr: 1.0000e-04\n",
      "Epoch 4/100\n",
      "378/378 [==============================] - ETA: 0s - loss: 0.9746 - bbox_loss: 0.5468 - label_loss: 0.4278\n",
      "Epoch 4: val_loss improved from 1.74683 to 1.51228, saving model to D:\\df\\ai\\models\\asl_obj\n"
     ]
    },
    {
     "name": "stderr",
     "output_type": "stream",
     "text": [
      "WARNING:absl:Found untraced functions such as _jit_compiled_convolution_op, _jit_compiled_convolution_op, _jit_compiled_convolution_op, _jit_compiled_convolution_op, _jit_compiled_convolution_op while saving (showing 5 of 53). These functions will not be directly callable after loading.\n"
     ]
    },
    {
     "name": "stdout",
     "output_type": "stream",
     "text": [
      "INFO:tensorflow:Assets written to: D:\\df\\ai\\models\\asl_obj\\assets\n"
     ]
    },
    {
     "name": "stderr",
     "output_type": "stream",
     "text": [
      "INFO:tensorflow:Assets written to: D:\\df\\ai\\models\\asl_obj\\assets\n"
     ]
    },
    {
     "name": "stdout",
     "output_type": "stream",
     "text": [
      "378/378 [==============================] - 39s 104ms/step - loss: 0.9746 - bbox_loss: 0.5468 - label_loss: 0.4278 - val_loss: 1.5123 - val_bbox_loss: 0.5628 - val_label_loss: 0.9495 - lr: 1.0000e-04\n",
      "Epoch 5/100\n",
      "378/378 [==============================] - ETA: 0s - loss: 0.8297 - bbox_loss: 0.5465 - label_loss: 0.2832\n",
      "Epoch 5: val_loss did not improve from 1.51228\n",
      "378/378 [==============================] - 23s 59ms/step - loss: 0.8297 - bbox_loss: 0.5465 - label_loss: 0.2832 - val_loss: 1.5319 - val_bbox_loss: 0.5659 - val_label_loss: 0.9660 - lr: 1.0000e-04\n",
      "Epoch 6/100\n",
      "378/378 [==============================] - ETA: 0s - loss: 0.7529 - bbox_loss: 0.5433 - label_loss: 0.2097\n",
      "Epoch 6: val_loss improved from 1.51228 to 1.38083, saving model to D:\\df\\ai\\models\\asl_obj\n"
     ]
    },
    {
     "name": "stderr",
     "output_type": "stream",
     "text": [
      "WARNING:absl:Found untraced functions such as _jit_compiled_convolution_op, _jit_compiled_convolution_op, _jit_compiled_convolution_op, _jit_compiled_convolution_op, _jit_compiled_convolution_op while saving (showing 5 of 53). These functions will not be directly callable after loading.\n"
     ]
    },
    {
     "name": "stdout",
     "output_type": "stream",
     "text": [
      "INFO:tensorflow:Assets written to: D:\\df\\ai\\models\\asl_obj\\assets\n"
     ]
    },
    {
     "name": "stderr",
     "output_type": "stream",
     "text": [
      "INFO:tensorflow:Assets written to: D:\\df\\ai\\models\\asl_obj\\assets\n"
     ]
    },
    {
     "name": "stdout",
     "output_type": "stream",
     "text": [
      "378/378 [==============================] - 40s 107ms/step - loss: 0.7529 - bbox_loss: 0.5433 - label_loss: 0.2097 - val_loss: 1.3808 - val_bbox_loss: 0.5645 - val_label_loss: 0.8163 - lr: 1.0000e-04\n",
      "Epoch 7/100\n",
      "378/378 [==============================] - ETA: 0s - loss: 0.7093 - bbox_loss: 0.5426 - label_loss: 0.1667\n",
      "Epoch 7: val_loss improved from 1.38083 to 1.32534, saving model to D:\\df\\ai\\models\\asl_obj\n"
     ]
    },
    {
     "name": "stderr",
     "output_type": "stream",
     "text": [
      "WARNING:absl:Found untraced functions such as _jit_compiled_convolution_op, _jit_compiled_convolution_op, _jit_compiled_convolution_op, _jit_compiled_convolution_op, _jit_compiled_convolution_op while saving (showing 5 of 53). These functions will not be directly callable after loading.\n"
     ]
    },
    {
     "name": "stdout",
     "output_type": "stream",
     "text": [
      "INFO:tensorflow:Assets written to: D:\\df\\ai\\models\\asl_obj\\assets\n"
     ]
    },
    {
     "name": "stderr",
     "output_type": "stream",
     "text": [
      "INFO:tensorflow:Assets written to: D:\\df\\ai\\models\\asl_obj\\assets\n"
     ]
    },
    {
     "name": "stdout",
     "output_type": "stream",
     "text": [
      "378/378 [==============================] - 38s 101ms/step - loss: 0.7093 - bbox_loss: 0.5426 - label_loss: 0.1667 - val_loss: 1.3253 - val_bbox_loss: 0.5650 - val_label_loss: 0.7603 - lr: 1.0000e-04\n",
      "Epoch 8/100\n",
      "378/378 [==============================] - ETA: 0s - loss: 0.6836 - bbox_loss: 0.5422 - label_loss: 0.1414\n",
      "Epoch 8: val_loss improved from 1.32534 to 1.16654, saving model to D:\\df\\ai\\models\\asl_obj\n"
     ]
    },
    {
     "name": "stderr",
     "output_type": "stream",
     "text": [
      "WARNING:absl:Found untraced functions such as _jit_compiled_convolution_op, _jit_compiled_convolution_op, _jit_compiled_convolution_op, _jit_compiled_convolution_op, _jit_compiled_convolution_op while saving (showing 5 of 53). These functions will not be directly callable after loading.\n"
     ]
    },
    {
     "name": "stdout",
     "output_type": "stream",
     "text": [
      "INFO:tensorflow:Assets written to: D:\\df\\ai\\models\\asl_obj\\assets\n"
     ]
    },
    {
     "name": "stderr",
     "output_type": "stream",
     "text": [
      "INFO:tensorflow:Assets written to: D:\\df\\ai\\models\\asl_obj\\assets\n"
     ]
    },
    {
     "name": "stdout",
     "output_type": "stream",
     "text": [
      "378/378 [==============================] - 40s 105ms/step - loss: 0.6836 - bbox_loss: 0.5422 - label_loss: 0.1414 - val_loss: 1.1665 - val_bbox_loss: 0.5599 - val_label_loss: 0.6066 - lr: 1.0000e-04\n",
      "Epoch 9/100\n",
      "378/378 [==============================] - ETA: 0s - loss: 0.6538 - bbox_loss: 0.5396 - label_loss: 0.1142\n",
      "Epoch 9: val_loss did not improve from 1.16654\n",
      "378/378 [==============================] - 22s 58ms/step - loss: 0.6538 - bbox_loss: 0.5396 - label_loss: 0.1142 - val_loss: 1.3474 - val_bbox_loss: 0.5578 - val_label_loss: 0.7897 - lr: 1.0000e-04\n",
      "Epoch 10/100\n",
      "378/378 [==============================] - ETA: 0s - loss: 0.6290 - bbox_loss: 0.5368 - label_loss: 0.0922\n",
      "Epoch 10: val_loss did not improve from 1.16654\n",
      "378/378 [==============================] - 23s 61ms/step - loss: 0.6290 - bbox_loss: 0.5368 - label_loss: 0.0922 - val_loss: 1.1814 - val_bbox_loss: 0.5541 - val_label_loss: 0.6273 - lr: 1.0000e-04\n",
      "Epoch 11/100\n",
      "377/378 [============================>.] - ETA: 0s - loss: 0.6195 - bbox_loss: 0.5357 - label_loss: 0.0838\n",
      "Epoch 11: val_loss did not improve from 1.16654\n",
      "378/378 [==============================] - 22s 58ms/step - loss: 0.6195 - bbox_loss: 0.5358 - label_loss: 0.0837 - val_loss: 1.3026 - val_bbox_loss: 0.5523 - val_label_loss: 0.7504 - lr: 1.0000e-04\n",
      "Epoch 12/100\n",
      "378/378 [==============================] - ETA: 0s - loss: 0.6078 - bbox_loss: 0.5326 - label_loss: 0.0753\n",
      "Epoch 12: val_loss did not improve from 1.16654\n",
      "378/378 [==============================] - 22s 58ms/step - loss: 0.6078 - bbox_loss: 0.5326 - label_loss: 0.0753 - val_loss: 1.2325 - val_bbox_loss: 0.5530 - val_label_loss: 0.6794 - lr: 1.0000e-04\n",
      "Epoch 13/100\n",
      "378/378 [==============================] - ETA: 0s - loss: 0.5950 - bbox_loss: 0.5302 - label_loss: 0.0647\n",
      "Epoch 13: val_loss did not improve from 1.16654\n",
      "\n",
      "Epoch 13: ReduceLROnPlateau reducing learning rate to 9.999999747378752e-06.\n",
      "378/378 [==============================] - 24s 62ms/step - loss: 0.5950 - bbox_loss: 0.5302 - label_loss: 0.0647 - val_loss: 1.2587 - val_bbox_loss: 0.5537 - val_label_loss: 0.7050 - lr: 1.0000e-04\n",
      "Epoch 14/100\n",
      "377/378 [============================>.] - ETA: 0s - loss: 0.5903 - bbox_loss: 0.5291 - label_loss: 0.0612\n",
      "Epoch 14: val_loss did not improve from 1.16654\n",
      "378/378 [==============================] - 23s 62ms/step - loss: 0.5903 - bbox_loss: 0.5291 - label_loss: 0.0611 - val_loss: 1.2231 - val_bbox_loss: 0.5505 - val_label_loss: 0.6726 - lr: 1.0000e-05\n",
      "Epoch 15/100\n",
      "377/378 [============================>.] - ETA: 0s - loss: 0.5765 - bbox_loss: 0.5292 - label_loss: 0.0474\n",
      "Epoch 15: val_loss did not improve from 1.16654\n",
      "378/378 [==============================] - 22s 58ms/step - loss: 0.5766 - bbox_loss: 0.5292 - label_loss: 0.0474 - val_loss: 1.1763 - val_bbox_loss: 0.5497 - val_label_loss: 0.6266 - lr: 1.0000e-05\n",
      "Epoch 16/100\n",
      "378/378 [==============================] - ETA: 0s - loss: 0.5637 - bbox_loss: 0.5283 - label_loss: 0.0354\n",
      "Epoch 16: val_loss improved from 1.16654 to 1.14210, saving model to D:\\df\\ai\\models\\asl_obj\n"
     ]
    },
    {
     "name": "stderr",
     "output_type": "stream",
     "text": [
      "WARNING:absl:Found untraced functions such as _jit_compiled_convolution_op, _jit_compiled_convolution_op, _jit_compiled_convolution_op, _jit_compiled_convolution_op, _jit_compiled_convolution_op while saving (showing 5 of 53). These functions will not be directly callable after loading.\n"
     ]
    },
    {
     "name": "stdout",
     "output_type": "stream",
     "text": [
      "INFO:tensorflow:Assets written to: D:\\df\\ai\\models\\asl_obj\\assets\n"
     ]
    },
    {
     "name": "stderr",
     "output_type": "stream",
     "text": [
      "INFO:tensorflow:Assets written to: D:\\df\\ai\\models\\asl_obj\\assets\n"
     ]
    },
    {
     "name": "stdout",
     "output_type": "stream",
     "text": [
      "378/378 [==============================] - 39s 103ms/step - loss: 0.5637 - bbox_loss: 0.5283 - label_loss: 0.0354 - val_loss: 1.1421 - val_bbox_loss: 0.5493 - val_label_loss: 0.5928 - lr: 1.0000e-05\n",
      "Epoch 17/100\n",
      "378/378 [==============================] - ETA: 0s - loss: 0.5636 - bbox_loss: 0.5281 - label_loss: 0.0356\n",
      "Epoch 17: val_loss improved from 1.14210 to 1.12977, saving model to D:\\df\\ai\\models\\asl_obj\n"
     ]
    },
    {
     "name": "stderr",
     "output_type": "stream",
     "text": [
      "WARNING:absl:Found untraced functions such as _jit_compiled_convolution_op, _jit_compiled_convolution_op, _jit_compiled_convolution_op, _jit_compiled_convolution_op, _jit_compiled_convolution_op while saving (showing 5 of 53). These functions will not be directly callable after loading.\n"
     ]
    },
    {
     "name": "stdout",
     "output_type": "stream",
     "text": [
      "INFO:tensorflow:Assets written to: D:\\df\\ai\\models\\asl_obj\\assets\n"
     ]
    },
    {
     "name": "stderr",
     "output_type": "stream",
     "text": [
      "INFO:tensorflow:Assets written to: D:\\df\\ai\\models\\asl_obj\\assets\n"
     ]
    },
    {
     "name": "stdout",
     "output_type": "stream",
     "text": [
      "378/378 [==============================] - 39s 102ms/step - loss: 0.5636 - bbox_loss: 0.5281 - label_loss: 0.0356 - val_loss: 1.1298 - val_bbox_loss: 0.5490 - val_label_loss: 0.5808 - lr: 1.0000e-05\n",
      "Epoch 18/100\n",
      "378/378 [==============================] - ETA: 0s - loss: 0.5573 - bbox_loss: 0.5271 - label_loss: 0.0302\n",
      "Epoch 18: val_loss improved from 1.12977 to 1.08668, saving model to D:\\df\\ai\\models\\asl_obj\n"
     ]
    },
    {
     "name": "stderr",
     "output_type": "stream",
     "text": [
      "WARNING:absl:Found untraced functions such as _jit_compiled_convolution_op, _jit_compiled_convolution_op, _jit_compiled_convolution_op, _jit_compiled_convolution_op, _jit_compiled_convolution_op while saving (showing 5 of 53). These functions will not be directly callable after loading.\n"
     ]
    },
    {
     "name": "stdout",
     "output_type": "stream",
     "text": [
      "INFO:tensorflow:Assets written to: D:\\df\\ai\\models\\asl_obj\\assets\n"
     ]
    },
    {
     "name": "stderr",
     "output_type": "stream",
     "text": [
      "INFO:tensorflow:Assets written to: D:\\df\\ai\\models\\asl_obj\\assets\n"
     ]
    },
    {
     "name": "stdout",
     "output_type": "stream",
     "text": [
      "378/378 [==============================] - 38s 100ms/step - loss: 0.5573 - bbox_loss: 0.5271 - label_loss: 0.0302 - val_loss: 1.0867 - val_bbox_loss: 0.5491 - val_label_loss: 0.5376 - lr: 1.0000e-05\n",
      "Epoch 19/100\n",
      "378/378 [==============================] - ETA: 0s - loss: 0.5573 - bbox_loss: 0.5257 - label_loss: 0.0315\n",
      "Epoch 19: val_loss improved from 1.08668 to 1.07950, saving model to D:\\df\\ai\\models\\asl_obj\n"
     ]
    },
    {
     "name": "stderr",
     "output_type": "stream",
     "text": [
      "WARNING:absl:Found untraced functions such as _jit_compiled_convolution_op, _jit_compiled_convolution_op, _jit_compiled_convolution_op, _jit_compiled_convolution_op, _jit_compiled_convolution_op while saving (showing 5 of 53). These functions will not be directly callable after loading.\n"
     ]
    },
    {
     "name": "stdout",
     "output_type": "stream",
     "text": [
      "INFO:tensorflow:Assets written to: D:\\df\\ai\\models\\asl_obj\\assets\n"
     ]
    },
    {
     "name": "stderr",
     "output_type": "stream",
     "text": [
      "INFO:tensorflow:Assets written to: D:\\df\\ai\\models\\asl_obj\\assets\n"
     ]
    },
    {
     "name": "stdout",
     "output_type": "stream",
     "text": [
      "378/378 [==============================] - 42s 111ms/step - loss: 0.5573 - bbox_loss: 0.5257 - label_loss: 0.0315 - val_loss: 1.0795 - val_bbox_loss: 0.5491 - val_label_loss: 0.5304 - lr: 1.0000e-05\n",
      "Epoch 20/100\n",
      "378/378 [==============================] - ETA: 0s - loss: 0.5550 - bbox_loss: 0.5254 - label_loss: 0.0295\n",
      "Epoch 20: val_loss did not improve from 1.07950\n",
      "378/378 [==============================] - 25s 65ms/step - loss: 0.5550 - bbox_loss: 0.5254 - label_loss: 0.0295 - val_loss: 1.0921 - val_bbox_loss: 0.5481 - val_label_loss: 0.5441 - lr: 1.0000e-05\n",
      "Epoch 21/100\n",
      "378/378 [==============================] - ETA: 0s - loss: 0.5529 - bbox_loss: 0.5246 - label_loss: 0.0283\n",
      "Epoch 21: val_loss did not improve from 1.07950\n",
      "378/378 [==============================] - 25s 66ms/step - loss: 0.5529 - bbox_loss: 0.5246 - label_loss: 0.0283 - val_loss: 1.0979 - val_bbox_loss: 0.5477 - val_label_loss: 0.5502 - lr: 1.0000e-05\n",
      "Epoch 22/100\n",
      "378/378 [==============================] - ETA: 0s - loss: 0.5534 - bbox_loss: 0.5259 - label_loss: 0.0274\n",
      "Epoch 22: val_loss improved from 1.07950 to 1.05496, saving model to D:\\df\\ai\\models\\asl_obj\n"
     ]
    },
    {
     "name": "stderr",
     "output_type": "stream",
     "text": [
      "WARNING:absl:Found untraced functions such as _jit_compiled_convolution_op, _jit_compiled_convolution_op, _jit_compiled_convolution_op, _jit_compiled_convolution_op, _jit_compiled_convolution_op while saving (showing 5 of 53). These functions will not be directly callable after loading.\n"
     ]
    },
    {
     "name": "stdout",
     "output_type": "stream",
     "text": [
      "INFO:tensorflow:Assets written to: D:\\df\\ai\\models\\asl_obj\\assets\n"
     ]
    },
    {
     "name": "stderr",
     "output_type": "stream",
     "text": [
      "INFO:tensorflow:Assets written to: D:\\df\\ai\\models\\asl_obj\\assets\n"
     ]
    },
    {
     "name": "stdout",
     "output_type": "stream",
     "text": [
      "378/378 [==============================] - 41s 108ms/step - loss: 0.5534 - bbox_loss: 0.5259 - label_loss: 0.0274 - val_loss: 1.0550 - val_bbox_loss: 0.5466 - val_label_loss: 0.5084 - lr: 1.0000e-05\n",
      "Epoch 23/100\n",
      "378/378 [==============================] - ETA: 0s - loss: 0.5492 - bbox_loss: 0.5244 - label_loss: 0.0248\n",
      "Epoch 23: val_loss did not improve from 1.05496\n",
      "378/378 [==============================] - 25s 66ms/step - loss: 0.5492 - bbox_loss: 0.5244 - label_loss: 0.0248 - val_loss: 1.0686 - val_bbox_loss: 0.5465 - val_label_loss: 0.5220 - lr: 1.0000e-05\n",
      "Epoch 24/100\n",
      "378/378 [==============================] - ETA: 0s - loss: 0.5458 - bbox_loss: 0.5221 - label_loss: 0.0237\n",
      "Epoch 24: val_loss improved from 1.05496 to 1.05177, saving model to D:\\df\\ai\\models\\asl_obj\n"
     ]
    },
    {
     "name": "stderr",
     "output_type": "stream",
     "text": [
      "WARNING:absl:Found untraced functions such as _jit_compiled_convolution_op, _jit_compiled_convolution_op, _jit_compiled_convolution_op, _jit_compiled_convolution_op, _jit_compiled_convolution_op while saving (showing 5 of 53). These functions will not be directly callable after loading.\n"
     ]
    },
    {
     "name": "stdout",
     "output_type": "stream",
     "text": [
      "INFO:tensorflow:Assets written to: D:\\df\\ai\\models\\asl_obj\\assets\n"
     ]
    },
    {
     "name": "stderr",
     "output_type": "stream",
     "text": [
      "INFO:tensorflow:Assets written to: D:\\df\\ai\\models\\asl_obj\\assets\n"
     ]
    },
    {
     "name": "stdout",
     "output_type": "stream",
     "text": [
      "378/378 [==============================] - 45s 120ms/step - loss: 0.5458 - bbox_loss: 0.5221 - label_loss: 0.0237 - val_loss: 1.0518 - val_bbox_loss: 0.5462 - val_label_loss: 0.5056 - lr: 1.0000e-05\n",
      "Epoch 25/100\n",
      "378/378 [==============================] - ETA: 0s - loss: 0.5467 - bbox_loss: 0.5223 - label_loss: 0.0243\n",
      "Epoch 25: val_loss did not improve from 1.05177\n",
      "378/378 [==============================] - 26s 68ms/step - loss: 0.5467 - bbox_loss: 0.5223 - label_loss: 0.0243 - val_loss: 1.1214 - val_bbox_loss: 0.5460 - val_label_loss: 0.5754 - lr: 1.0000e-05\n",
      "Epoch 26/100\n",
      "378/378 [==============================] - ETA: 0s - loss: 0.5468 - bbox_loss: 0.5221 - label_loss: 0.0247\n",
      "Epoch 26: val_loss did not improve from 1.05177\n",
      "378/378 [==============================] - 26s 68ms/step - loss: 0.5468 - bbox_loss: 0.5221 - label_loss: 0.0247 - val_loss: 1.1042 - val_bbox_loss: 0.5470 - val_label_loss: 0.5572 - lr: 1.0000e-05\n",
      "Epoch 27/100\n",
      "378/378 [==============================] - ETA: 0s - loss: 0.5424 - bbox_loss: 0.5217 - label_loss: 0.0207\n",
      "Epoch 27: val_loss did not improve from 1.05177\n",
      "378/378 [==============================] - 26s 68ms/step - loss: 0.5424 - bbox_loss: 0.5217 - label_loss: 0.0207 - val_loss: 1.0627 - val_bbox_loss: 0.5462 - val_label_loss: 0.5165 - lr: 1.0000e-05\n",
      "Epoch 28/100\n",
      "378/378 [==============================] - ETA: 0s - loss: 0.5430 - bbox_loss: 0.5208 - label_loss: 0.0223\n",
      "Epoch 28: val_loss did not improve from 1.05177\n",
      "378/378 [==============================] - 26s 68ms/step - loss: 0.5430 - bbox_loss: 0.5208 - label_loss: 0.0223 - val_loss: 1.0978 - val_bbox_loss: 0.5443 - val_label_loss: 0.5535 - lr: 1.0000e-05\n",
      "Epoch 29/100\n",
      "378/378 [==============================] - ETA: 0s - loss: 0.5398 - bbox_loss: 0.5199 - label_loss: 0.0198\n",
      "Epoch 29: val_loss did not improve from 1.05177\n",
      "\n",
      "Epoch 29: ReduceLROnPlateau reducing learning rate to 9.999999747378752e-07.\n",
      "378/378 [==============================] - 24s 64ms/step - loss: 0.5398 - bbox_loss: 0.5199 - label_loss: 0.0198 - val_loss: 1.0963 - val_bbox_loss: 0.5444 - val_label_loss: 0.5519 - lr: 1.0000e-05\n",
      "Epoch 30/100\n",
      "378/378 [==============================] - ETA: 0s - loss: 0.5399 - bbox_loss: 0.5192 - label_loss: 0.0207\n",
      "Epoch 30: val_loss did not improve from 1.05177\n",
      "378/378 [==============================] - 23s 62ms/step - loss: 0.5399 - bbox_loss: 0.5192 - label_loss: 0.0207 - val_loss: 1.0968 - val_bbox_loss: 0.5444 - val_label_loss: 0.5525 - lr: 1.0000e-06\n",
      "Epoch 31/100\n",
      "378/378 [==============================] - ETA: 0s - loss: 0.5374 - bbox_loss: 0.5176 - label_loss: 0.0198\n",
      "Epoch 31: val_loss did not improve from 1.05177\n",
      "378/378 [==============================] - 25s 66ms/step - loss: 0.5374 - bbox_loss: 0.5176 - label_loss: 0.0198 - val_loss: 1.0894 - val_bbox_loss: 0.5441 - val_label_loss: 0.5453 - lr: 1.0000e-06\n",
      "Epoch 32/100\n",
      "378/378 [==============================] - ETA: 0s - loss: 0.5392 - bbox_loss: 0.5183 - label_loss: 0.0209\n",
      "Epoch 32: val_loss did not improve from 1.05177\n",
      "378/378 [==============================] - 25s 66ms/step - loss: 0.5392 - bbox_loss: 0.5183 - label_loss: 0.0209 - val_loss: 1.0871 - val_bbox_loss: 0.5441 - val_label_loss: 0.5430 - lr: 1.0000e-06\n",
      "Epoch 33/100\n",
      "378/378 [==============================] - ETA: 0s - loss: 0.5377 - bbox_loss: 0.5174 - label_loss: 0.0203\n",
      "Epoch 33: val_loss did not improve from 1.05177\n",
      "378/378 [==============================] - 24s 63ms/step - loss: 0.5377 - bbox_loss: 0.5174 - label_loss: 0.0203 - val_loss: 1.0793 - val_bbox_loss: 0.5441 - val_label_loss: 0.5352 - lr: 1.0000e-06\n",
      "Epoch 34/100\n",
      "378/378 [==============================] - ETA: 0s - loss: 0.5376 - bbox_loss: 0.5181 - label_loss: 0.0195\n",
      "Epoch 34: val_loss did not improve from 1.05177\n",
      "\n",
      "Epoch 34: ReduceLROnPlateau reducing learning rate to 1e-07.\n",
      "378/378 [==============================] - 24s 62ms/step - loss: 0.5376 - bbox_loss: 0.5181 - label_loss: 0.0195 - val_loss: 1.0840 - val_bbox_loss: 0.5441 - val_label_loss: 0.5399 - lr: 1.0000e-06\n",
      "Epoch 35/100\n",
      "378/378 [==============================] - ETA: 0s - loss: 0.5380 - bbox_loss: 0.5181 - label_loss: 0.0199\n",
      "Epoch 35: val_loss did not improve from 1.05177\n",
      "378/378 [==============================] - 25s 65ms/step - loss: 0.5380 - bbox_loss: 0.5181 - label_loss: 0.0199 - val_loss: 1.0860 - val_bbox_loss: 0.5441 - val_label_loss: 0.5419 - lr: 1.0000e-07\n",
      "Epoch 36/100\n",
      "378/378 [==============================] - ETA: 0s - loss: 0.5373 - bbox_loss: 0.5175 - label_loss: 0.0197\n",
      "Epoch 36: val_loss did not improve from 1.05177\n",
      "378/378 [==============================] - 26s 69ms/step - loss: 0.5373 - bbox_loss: 0.5175 - label_loss: 0.0197 - val_loss: 1.0877 - val_bbox_loss: 0.5440 - val_label_loss: 0.5437 - lr: 1.0000e-07\n",
      "Epoch 37/100\n",
      "378/378 [==============================] - ETA: 0s - loss: 0.5353 - bbox_loss: 0.5167 - label_loss: 0.0186\n",
      "Epoch 37: val_loss did not improve from 1.05177\n",
      "378/378 [==============================] - 27s 72ms/step - loss: 0.5353 - bbox_loss: 0.5167 - label_loss: 0.0186 - val_loss: 1.0882 - val_bbox_loss: 0.5440 - val_label_loss: 0.5442 - lr: 1.0000e-07\n",
      "Epoch 38/100\n",
      "378/378 [==============================] - ETA: 0s - loss: 0.5363 - bbox_loss: 0.5171 - label_loss: 0.0192\n",
      "Epoch 38: val_loss did not improve from 1.05177\n",
      "378/378 [==============================] - 27s 70ms/step - loss: 0.5363 - bbox_loss: 0.5171 - label_loss: 0.0192 - val_loss: 1.0882 - val_bbox_loss: 0.5440 - val_label_loss: 0.5442 - lr: 1.0000e-07\n",
      "Epoch 39/100\n",
      "378/378 [==============================] - ETA: 0s - loss: 0.5368 - bbox_loss: 0.5177 - label_loss: 0.0191\n",
      "Epoch 39: val_loss did not improve from 1.05177\n",
      "378/378 [==============================] - 27s 72ms/step - loss: 0.5368 - bbox_loss: 0.5177 - label_loss: 0.0191 - val_loss: 1.0874 - val_bbox_loss: 0.5440 - val_label_loss: 0.5434 - lr: 1.0000e-07\n",
      "Epoch 40/100\n",
      "378/378 [==============================] - ETA: 0s - loss: 0.5363 - bbox_loss: 0.5174 - label_loss: 0.0189\n",
      "Epoch 40: val_loss did not improve from 1.05177\n",
      "378/378 [==============================] - 27s 71ms/step - loss: 0.5363 - bbox_loss: 0.5174 - label_loss: 0.0189 - val_loss: 1.0869 - val_bbox_loss: 0.5439 - val_label_loss: 0.5429 - lr: 1.0000e-07\n",
      "Epoch 41/100\n",
      "378/378 [==============================] - ETA: 0s - loss: 0.5365 - bbox_loss: 0.5182 - label_loss: 0.0183\n",
      "Epoch 41: val_loss did not improve from 1.05177\n",
      "378/378 [==============================] - 27s 70ms/step - loss: 0.5365 - bbox_loss: 0.5182 - label_loss: 0.0183 - val_loss: 1.0870 - val_bbox_loss: 0.5439 - val_label_loss: 0.5431 - lr: 1.0000e-07\n",
      "Epoch 42/100\n",
      "378/378 [==============================] - ETA: 0s - loss: 0.5371 - bbox_loss: 0.5172 - label_loss: 0.0200\n",
      "Epoch 42: val_loss did not improve from 1.05177\n",
      "378/378 [==============================] - 24s 64ms/step - loss: 0.5371 - bbox_loss: 0.5172 - label_loss: 0.0200 - val_loss: 1.0866 - val_bbox_loss: 0.5439 - val_label_loss: 0.5427 - lr: 1.0000e-07\n",
      "Epoch 43/100\n",
      "378/378 [==============================] - ETA: 0s - loss: 0.5368 - bbox_loss: 0.5185 - label_loss: 0.0184\n",
      "Epoch 43: val_loss did not improve from 1.05177\n",
      "378/378 [==============================] - 28s 74ms/step - loss: 0.5368 - bbox_loss: 0.5185 - label_loss: 0.0184 - val_loss: 1.0871 - val_bbox_loss: 0.5439 - val_label_loss: 0.5432 - lr: 1.0000e-07\n",
      "Epoch 44/100\n",
      "378/378 [==============================] - ETA: 0s - loss: 0.5373 - bbox_loss: 0.5178 - label_loss: 0.0196\n",
      "Epoch 44: val_loss did not improve from 1.05177\n",
      "378/378 [==============================] - 25s 67ms/step - loss: 0.5373 - bbox_loss: 0.5178 - label_loss: 0.0196 - val_loss: 1.0875 - val_bbox_loss: 0.5439 - val_label_loss: 0.5436 - lr: 1.0000e-07\n"
     ]
    }
   ],
   "source": [
    "from keras.callbacks import ModelCheckpoint, CSVLogger, ReduceLROnPlateau, EarlyStopping\n",
    "\n",
    "\n",
    "callbacks = [\n",
    "        ModelCheckpoint(MODEL_SAVE, verbose=1, save_best_only=True),\n",
    "        ReduceLROnPlateau(monitor='val_loss', factor=0.1, patience=5, min_lr=1e-7, verbose=1),\n",
    "        EarlyStopping(monitor='val_loss', patience=20, restore_best_weights=False),\n",
    "        CSVLogger(CSV_PATH,append=False)\n",
    "    ]\n",
    "\n",
    "history=model.fit(\n",
    "        ds_train,\n",
    "        epochs=N_EPOCHS,\n",
    "        validation_data=ds_val,\n",
    "        verbose=1,\n",
    "        callbacks=callbacks\n",
    "    )"
   ]
  },
  {
   "cell_type": "code",
   "execution_count": 4,
   "metadata": {},
   "outputs": [
    {
     "data": {
      "text/plain": [
       "<matplotlib.legend.Legend at 0x1b12cad99d0>"
      ]
     },
     "execution_count": 4,
     "metadata": {},
     "output_type": "execute_result"
    },
    {
     "data": {
      "image/png": "[encoded data removed]",
      "text/plain": [
       "<Figure size 432x288 with 1 Axes>"
      ]
     },
     "metadata": {
      "needs_background": "light"
     },
     "output_type": "display_data"
    },
    {
     "data": {
      "text/plain": [
       "<Figure size 1440x720 with 0 Axes>"
      ]
     },
     "metadata": {},
     "output_type": "display_data"
    }
   ],
   "source": [
    "df=pd.read_csv(\"history.csv\")\n",
    "x=np.arange(df.shape[0])\n",
    "\n",
    "\n",
    "\n",
    "ax=plt.subplot()\n",
    "plt.figure(figsize=(20,10))\n",
    "ax.set_title(\"loss over epochs\")\n",
    "ax.set_xlabel(\"epochs\")\n",
    "ax.set_ylabel(\"loss\")\n",
    "ax.plot(x,df[\"val_loss\"],label=\"val_loss\",c=\"blue\")\n",
    "ax.plot(x,df[\"loss\"],label=\"training_loss\",c=\"red\")\n",
    "ax.legend()"
   ]
  },
  {
   "cell_type": "code",
   "execution_count": 74,
   "metadata": {},
   "outputs": [
    {
     "name": "stdout",
     "output_type": "stream",
     "text": [
      "accuracy score is :0.8\n",
      "f1 score is       : 0.6893939393939393\n"
     ]
    }
   ],
   "source": [
    "model=tf.keras.models.load_model(MODEL_SAVE)\n",
    "ds_test=tfData(test_images,test_bboxes,test_labels,True)\n",
    "ds_test = iter(ds_test)\n",
    "labels=[]\n",
    "real_bboxs=[]\n",
    "preds=[]\n",
    "for images,(bboxs,label) in ds_test:\n",
    "    pred_bbox,pred_label=model.predict(images,verbose=0)\n",
    "    preds.append(np.argmax(pred_label))\n",
    "    labels.append(np.argmax(label))\n",
    "print(f\"accuracy score is :{accuracy_score(labels,preds)}\")    \n",
    "print(\"f1 score is       :\",f1_score(labels,preds,average=\"macro\"))"
   ]
  }
 ],
 "metadata": {
  "kernelspec": {
   "display_name": "Python 3",
   "language": "python",
   "name": "python3"
  },
  "language_info": {
   "codemirror_mode": {
    "name": "ipython",
    "version": 3
   },
   "file_extension": ".py",
   "mimetype": "text/x-python",
   "name": "python",
   "nbconvert_exporter": "python",
   "pygments_lexer": "ipython3",
   "version": "3.9.7"
  },
  "orig_nbformat": 4,
  "vscode": {
   "interpreter": {
    "hash": "f3663913924b1daa3d8d3926798e99031b125700758b9d2e89fd61fec1c9e6b0"
   }
  }
 },
 "nbformat": 4,
 "nbformat_minor": 2
}
